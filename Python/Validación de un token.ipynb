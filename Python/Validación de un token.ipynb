{
 "cells": [
  {
   "cell_type": "markdown",
   "id": "ad213817",
   "metadata": {},
   "source": [
    "## Ejemplo de verificación de firma\n",
    "\n",
    "Este programa valida la firma digital del token generado por el sistema XFC de la Facultad de Ciencias"
   ]
  },
  {
   "cell_type": "code",
   "execution_count": 6,
   "id": "08185718",
   "metadata": {},
   "outputs": [
    {
     "name": "stdout",
     "output_type": "stream",
     "text": [
      "Certificado válido\n",
      "{'profesor': 20202, 'ayudante': 20092}\n",
      "prueba\n",
      "5f40ed99b3b89363ebd3d68b90abc5e45600517eb8abcc35079dd9a9563753f8\n"
     ]
    }
   ],
   "source": [
    "from base64 import b64encode,b64decode\n",
    "\n",
    "from Crypto.Hash import SHA256\n",
    "from Crypto.Signature import PKCS1_v1_5\n",
    "from Crypto.PublicKey import RSA\n",
    "\n",
    "import json\n",
    "\n",
    "# La llave pública de la autoridad que firma el certificado\n",
    "public_key = \"\"\"-----BEGIN PUBLIC KEY-----\n",
    "MIICIjANBgkqhkiG9w0BAQEFAAOCAg8AMIICCgKCAgEAy7AdT4z5z7tMQjr7BJ9v\n",
    "D4uZGashsevc0RTrCbghYw3i8R3BAihwsHlKKuEyoSZXvPlnNsJgWWsxrP1AC/ih\n",
    "XyUp5ptzwJMoY/YR41YsNBaYpJOS62sMaWp0em4PGev/CEIDKCCjeuVjSgOEn2jz\n",
    "FOsibWKT3dFgy/h31v5T0ZtM2TK7YxI3rTb+jjkPCLapDyeE27JnuYgtXBCv9p+c\n",
    "rVVKXY/GEhO14w2NzwGKldj8FZk4QDHsBJBg5JppdI3JMGOs9YEnT+BDpABZ01oX\n",
    "lrTUHGiVa/0IjcEV4rptcHixtwsZKL7XdBpNgw9XZAi+D3D8Eci7+cGkOhUIoDMd\n",
    "+gyu2cTAzONsybqLm0GDW1rZw9WVJzTfA8qEzu9fmkIu4x17j9CoyK6dGYimoO3F\n",
    "SvUjBz+eDZPLMfyW/jLf6I27cvD2j37TnFcnOihsKhwDC/rwuwrQ4ZZgaclnlKQz\n",
    "Dylp7DBga/Qcs4eFp2ARpe/poqPdOtqVN6XQxF3gS1CJhYVk5T8RMIS94fe6Jp/X\n",
    "VQJ5X29mUS0HI7FF0ZpdIsuQ96MILNiUsuV9worZ81P0M0h+m+K+Ags9qMD+WEeD\n",
    "o8RSDr6mH2t3f/0w+QNQ14QPMVcVpkj1Ho6hAKSaedgyJjvHsWTPx7316Il8XTvY\n",
    "COhvOoviz9lc8iCv8HA9QO8CAwEAAQ==\n",
    "-----END PUBLIC KEY-----\"\"\"\n",
    "\n",
    "# El toekn a verificar\n",
    "cert = \"\"\"###\n",
    "{\"roles\":{\"profesor\":20202,\"ayudante\":20092},\"id_votación\":\"prueba\",\"id_certificado\":\"5f40ed99b3b89363ebd3d68b90abc5e45600517eb8abcc35079dd9a9563753f8\"}\n",
    "-----BEGIN SIGNATURE-----\n",
    "IaL14YTTFflw0l3rtXjs17uVxqpCmf+TgiuGMsm0nRUjV8J2Th/dzDtK3mAVepp/E3b9VVi30yXcMkuoscCvCMQX+JDjZN/vSyXnPgEJmKOECXNZa3tBWJ2x1GYBf2z7qAGvfh8W5OpJWNTaMK3YBa81CeRREpzEMuHvY0yvbV/vK6HTDZ2Wb4ryNX8SAYfizRcjDv8e9u0yShZMJrSNBUbRarQHWtaC1tDiNsJz0vyrTl2QcoLZNy49GRGEppOI0OmYcpy+Ora3TKHTlO12qbbJpt9fL6A3EaJhKgrnHdHOJ9uB9RWz00WEolSnlo/hisMyjNK/PO4Ym8g6U4ldgxapFFmp3b7EiZk6aWrjOVquw9HHU685Vj1seCaoVM7/fUPcAqou3oizwKr09goGfgM9NJgsF+b9/j19TEW5FExCK7K5k/vebXzrhDo8GG8beZyoI5uk0WOcR4smGgVXX69wzVXoKGz6s4vNU/rZtXQY9k7grnxkhI7y7LHnyp7/QoSZEG6i22OicF3jxWXLpe0pLu0/4kV8mLz5Qo4ui8IKHi/Y6oafcPy2J9E6bhScXzSfUsKxlpGjat2P79pSt5MXsRRpbO/4mmAfw/mCJAxJGF6k/PBu6ALdRasLMI7Pg8hAurVVKqoL0uPKGo+yxRy+K+QRktVEgPVVkoacZA4=\n",
    "-----END SIGNATURE-----\n",
    "###\"\"\"\n",
    "\n",
    "# Separar la firma y el contenido del mensage\n",
    "parts = cert.split(\"\\n\")\n",
    "message = bytes(parts[1],'utf-8')\n",
    "signature = bytes(parts[3],'utf-8')\n",
    "\n",
    "# Obtener un resumen del mensaje\n",
    "digest = SHA256.new()\n",
    "digest.update(message)\n",
    "\n",
    "# Generar el verificador de firmas\n",
    "rsapubkey = RSA.importKey(public_key) \n",
    "verifier = PKCS1_v1_5.new(rsapubkey)\n",
    "\n",
    "# Verificar la firma\n",
    "verified = verifier.verify(digest, b64decode(signature))\n",
    "\n",
    "if verified:\n",
    "    print(\"Certificado válido\")\n",
    "else:\n",
    "    print(\"Certificado no válido\")\n",
    "    \n",
    "# Obtener la información dentro del toekn\n",
    "info = json.loads(message)\n",
    "print(info['roles'])\n",
    "print(info['id_votación'])\n",
    "print(info['id_certificado'])"
   ]
  },
  {
   "cell_type": "code",
   "execution_count": null,
   "id": "162f1e3a",
   "metadata": {},
   "outputs": [],
   "source": []
  }
 ],
 "metadata": {
  "kernelspec": {
   "display_name": "Python 3",
   "language": "python",
   "name": "python3"
  },
  "language_info": {
   "codemirror_mode": {
    "name": "ipython",
    "version": 3
   },
   "file_extension": ".py",
   "mimetype": "text/x-python",
   "name": "python",
   "nbconvert_exporter": "python",
   "pygments_lexer": "ipython3",
   "version": "3.9.5"
  }
 },
 "nbformat": 4,
 "nbformat_minor": 5
}
