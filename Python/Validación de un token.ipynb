{
 "cells": [
  {
   "cell_type": "markdown",
   "id": "ad213817",
   "metadata": {},
   "source": [
    "## Ejemplo de verificación de firma\n",
    "\n",
    "Este programa valida la firma digital del token generado por el sistema XFC de la Facultad de Ciencias"
   ]
  },
  {
   "cell_type": "code",
   "execution_count": 3,
   "id": "08185718",
   "metadata": {},
   "outputs": [
    {
     "name": "stdout",
     "output_type": "stream",
     "text": [
      "Certificado válido\n",
      "{'profesor': 20202, 'ayudante': 20092}\n",
      "gatoperro\n",
      "82fc37a0d2e2d20c4b7020fd03f83d086ea5069781f94a6e7e420c0163201ef8\n"
     ]
    }
   ],
   "source": [
    "from base64 import b64encode,b64decode\n",
    "\n",
    "from Crypto.Hash import SHA256\n",
    "from Crypto.Signature import PKCS1_v1_5\n",
    "from Crypto.PublicKey import RSA\n",
    "\n",
    "import json\n",
    "\n",
    "# La llave pública de la autoridad que firma el certificado\n",
    "public_key = \"\"\"-----BEGIN PUBLIC KEY-----\n",
    "MIICIjANBgkqhkiG9w0BAQEFAAOCAg8AMIICCgKCAgEAzlFznojCzNlfIG+gDEg4\n",
    "NiVGQe7BFe3Z9oB2yUPDTOThbMw02/N2au+M5NFPgztdL5zjTstLIbxUZfPd+oAe\n",
    "W2gQZTsNRPAUKi/kucdNAELmOD9C3fb5o261iEawkdCOaZg7kVwpxTdOEW4AnZSh\n",
    "J5CgTFINecwGHf1sSlB6TJEd11I1SP1xKleQwY4G0lM6M/C/yY2lFLvAASJXAM7e\n",
    "AClsENDHiWPX+BvnSCmSxLqx7kaYrxB765fn8Wpw+wr98rr2RjoTO/eRuz7RI5or\n",
    "M7CVUXwM5FWuKP6tPkw3k9I2D0D0NyP0OwOpaDCLwEElyZ1ZpT2XY0zpdJdzrfFy\n",
    "y4BFQBR7aM/3Z95XX0zEPwAuZ+9oaRZchd9xaqFhdHe3ZkZ2fkgMFsfrHVAD/qVp\n",
    "rFLva9sJHtUicqXbzUUhuL7f+BXWeS5JJC3/PqjF+Vaj9lHXmbcynp0XPE4wFooe\n",
    "lELVom0ogmy4TfqkY5F1mJC0ofivhAhEqi504GJbUvMH4Oji6U3f8+fzOvTiERba\n",
    "BWhtut2iztz6ATPzQjXMXdSE7Ln5xDN+dMexnS1llelNctk8mZAafF81qbGXf3mp\n",
    "i48jTksvmwdHRdEH3SBPBB/LQP4JrInEhcRo3pWSul9tlDZ1f2tS0mz+JO8KE7BN\n",
    "N3gt2DSMEnLJ6Fj2D+3ccbkCAwEAAQ==\n",
    "-----END PUBLIC KEY-----\"\"\"\n",
    "\n",
    "# El toekn a verificar\n",
    "cert = \"\"\"###\n",
    "{\"roles\":{\"profesor\":20202,\"ayudante\":20092},\"id_votación\":\"gatoperro\",\"id_certificado\":\"82fc37a0d2e2d20c4b7020fd03f83d086ea5069781f94a6e7e420c0163201ef8\"}\n",
    "-----BEGIN SIGNATURE-----\n",
    "kdfbTu+seM+r/k9IuSh9dqBlSdHCgNIjf7G7RKBXyYIYLAZvThiP7SIpYzLmVTY6dsb4gkigSXk+MLgczjcKcKBMT3DX9octDPML4i/jTtz/ur7Xwq+AGpJpszPpGsouqq7WA1LiweQ3unD6akTuO9To1YlCGDRUzopyTXsJ7CGrsZMJDyktq3gcJFw3LPGDwP+OeNmn27rvhlpptCsJSpLjjBV5i3GTxoGOm0EGAFg6TWn/DyeOOL0XkYK5PG6alDKgZBy99cG5z2Efl8095FheEpkNxj9ocJqAuH6aXWwu8MNfPc/ID/H1h0Qfj2icd5EbEjsPl4qi/ax4Dn72MEMLRnSpoz6gGg1LIGoBuiBlCiBp0CsM5zwdaaxF2yfGLvM8AUD3RQGkAxlckgZfZZskG3eGw9azinqbNVmYPzICi/b18/RsRypbDaiAcq0jfTTq6RUlyDjwN+AuBxdPBp74vv6IwqAFxb2ppG8psSgjpXTc5W2RyRcvFIZIHuiVzQ477cXiy3KaJxV2XDKz5JBAZJONKRIwWr2vdArHBER7qGch/JRuf1opLyN3V6s487+mLt1NJQN/+CzNEUTWZ9UWwfSAa8seBe4BNXOzHxXEydAyCNq7UtPBtiZ2AvWUTY9ZpCxA3zqyFE9dEm2dCBHYmEyC4zUpnWAzITf8NNc=\n",
    "-----END SIGNATURE-----\n",
    "###\n",
    "\"\"\"\n",
    "\n",
    "# Separar la firma y el contenido del mensage\n",
    "parts = cert.split(\"\\n\")\n",
    "message = bytes(parts[1],'utf-8')\n",
    "signature = bytes(parts[3],'utf-8')\n",
    "\n",
    "# Obtener un resumen del mensaje\n",
    "digest = SHA256.new()\n",
    "digest.update(message)\n",
    "\n",
    "# Generar el verificador de firmas\n",
    "rsapubkey = RSA.importKey(public_key) \n",
    "verifier = PKCS1_v1_5.new(rsapubkey)\n",
    "\n",
    "# Verificar la firma\n",
    "verified = verifier.verify(digest, b64decode(signature))\n",
    "\n",
    "if verified:\n",
    "    print(\"Certificado válido\")\n",
    "else:\n",
    "    print(\"Certificado no válido\")\n",
    "    \n",
    "# Obtener la información dentro del toekn\n",
    "info = json.loads(message)\n",
    "print(info['roles'])\n",
    "print(info['id_votación'])\n",
    "print(info['id_certificado'])"
   ]
  },
  {
   "cell_type": "code",
   "execution_count": null,
   "id": "162f1e3a",
   "metadata": {},
   "outputs": [],
   "source": []
  }
 ],
 "metadata": {
  "kernelspec": {
   "display_name": "Python 3",
   "language": "python",
   "name": "python3"
  },
  "language_info": {
   "codemirror_mode": {
    "name": "ipython",
    "version": 3
   },
   "file_extension": ".py",
   "mimetype": "text/x-python",
   "name": "python",
   "nbconvert_exporter": "python",
   "pygments_lexer": "ipython3",
   "version": "3.9.5"
  }
 },
 "nbformat": 4,
 "nbformat_minor": 5
}
