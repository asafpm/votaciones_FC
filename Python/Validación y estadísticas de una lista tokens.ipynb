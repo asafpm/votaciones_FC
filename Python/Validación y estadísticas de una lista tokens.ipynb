{
 "cells": [
  {
   "cell_type": "markdown",
   "id": "b64b4f6d",
   "metadata": {},
   "source": [
    "Este programa lee una lista de tokens publicados como resultado de una votación y permite "
   ]
  },
  {
   "cell_type": "code",
   "execution_count": 2,
   "id": "126925eb",
   "metadata": {},
   "outputs": [],
   "source": [
    "from base64 import b64encode,b64decode\n",
    "\n",
    "from Crypto.Hash import SHA256\n",
    "from Crypto.Signature import PKCS1_v1_5\n",
    "from Crypto.PublicKey import RSA\n",
    "\n",
    "import json\n",
    "import numpy as np\n",
    "import pylab as pl"
   ]
  },
  {
   "cell_type": "code",
   "execution_count": 3,
   "id": "6881e9d5",
   "metadata": {},
   "outputs": [
    {
     "name": "stdout",
     "output_type": "stream",
     "text": [
      "Votos emitidos: 6\n",
      "Certificados válidos y únicos: 0\n",
      "Certificados repetidos: 0\n",
      "Certificados no válidos: 6\n"
     ]
    }
   ],
   "source": [
    "# La llave pública de la autoridad que firma el certificado\n",
    "public_key = \"\"\"-----BEGIN PUBLIC KEY-----\n",
    "MIICIjANBgkqhkiG9w0BAQEFAAOCAg8AMIICCgKCAgEAzlFznojCzNlfIG+gDEg4\n",
    "NiVGQe7BFe3Z9oB2yUPDTOThbMw02/N2au+M5NFPgztdL5zjTstLIbxUZfPd+oAe\n",
    "W2gQZTsNRPAUKi/kucdNAELmOD9C3fb5o261iEawkdCOaZg7kVwpxTdOEW4AnZSh\n",
    "J5CgTFINecwGHf1sSlB6TJEd11I1SP1xKleQwY4G0lM6M/C/yY2lFLvAASJXAM7e\n",
    "AClsENDHiWPX+BvnSCmSxLqx7kaYrxB765fn8Wpw+wr98rr2RjoTO/eRuz7RI5or\n",
    "M7CVUXwM5FWuKP6tPkw3k9I2D0D0NyP0OwOpaDCLwEElyZ1ZpT2XY0zpdJdzrfFy\n",
    "y4BFQBR7aM/3Z95XX0zEPwAuZ+9oaRZchd9xaqFhdHe3ZkZ2fkgMFsfrHVAD/qVp\n",
    "rFLva9sJHtUicqXbzUUhuL7f+BXWeS5JJC3/PqjF+Vaj9lHXmbcynp0XPE4wFooe\n",
    "lELVom0ogmy4TfqkY5F1mJC0ofivhAhEqi504GJbUvMH4Oji6U3f8+fzOvTiERba\n",
    "BWhtut2iztz6ATPzQjXMXdSE7Ln5xDN+dMexnS1llelNctk8mZAafF81qbGXf3mp\n",
    "i48jTksvmwdHRdEH3SBPBB/LQP4JrInEhcRo3pWSul9tlDZ1f2tS0mz+JO8KE7BN\n",
    "N3gt2DSMEnLJ6Fj2D+3ccbkCAwEAAQ==\n",
    "-----END PUBLIC KEY-----\"\"\"\n",
    "\n",
    "\n",
    "stats = {'estudiante':[],'ayudante':[],'profesor':[]}\n",
    "ids_certificado_valido = []\n",
    "ids_certificado_novalido = []\n",
    "ids_certificado_repetido = []\n",
    "\n",
    "# Lee un archivo tokens.txt que contiene todos los tokens usados en la votación\n",
    "tokens_txt = open(\"tokens.txt\", \"r\").read()\n",
    "\n",
    "# Separar los tokens en una lista\n",
    "tokens_txt = tokens_txt.strip(\"#\\n \") # quitamos los ### del inicio y final\n",
    "tokens = tokens_txt.split(\"\\n###\\n###\\n\") # separamos todos los tokens\n",
    "\n",
    "num_votos = len(tokens)\n",
    "\n",
    "for token in tokens:\n",
    "    parts = token.split(\"\\n\")\n",
    "    message = bytes(parts[0],'utf-8')\n",
    "    signature = bytes(parts[2],'utf-8')\n",
    "\n",
    "    # Obtener un resumen del mensaje\n",
    "    digest = SHA256.new()\n",
    "    digest.update(message)\n",
    "\n",
    "    # Generar el verificador de firmas\n",
    "    rsapubkey = RSA.importKey(public_key) \n",
    "    verifier = PKCS1_v1_5.new(rsapubkey)\n",
    "\n",
    "    # Verificar la firma\n",
    "    verified = verifier.verify(digest, b64decode(signature))\n",
    "    \n",
    "    message_json = json.loads(message)\n",
    "    id_certificado = message_json['id_certificado']\n",
    "        \n",
    "    if verified: # Certificado válido\n",
    "        \n",
    "        if id_certificado not in ids_certificado_valido:\n",
    "            for rol,semestre in message_json['roles'].items():\n",
    "                stats[rol].append(semestre)\n",
    "            ids_certificado_valido.append(id_certificado)\n",
    "        else:\n",
    "            ids_certificado_repetido.append(id_certificado)\n",
    "            \n",
    "        \n",
    "    else: #Certificado no válido\n",
    "        ids_certificado_novalido.append(id_certificado)\n",
    "        \n",
    "        \n",
    "# Si hay algún certificado repetido contamos sólo su primera aparición\n",
    "# y las subsecuentes son contadas como repeticiones\n",
    "print(\"Votos emitidos: %d\"%num_votos)\n",
    "print(\"Certificados válidos y únicos: %d\"%len(ids_certificado_valido))\n",
    "print(\"Certificados repetidos: %d\"%len(ids_certificado_repetido))\n",
    "print(\"Certificados no válidos: %d\"%len(ids_certificado_novalido))"
   ]
  },
  {
   "cell_type": "code",
   "execution_count": 4,
   "id": "1f4b320d",
   "metadata": {},
   "outputs": [
    {
     "data": {
      "text/plain": [
       "{'estudiante': [], 'ayudante': [], 'profesor': []}"
      ]
     },
     "execution_count": 4,
     "metadata": {},
     "output_type": "execute_result"
    }
   ],
   "source": [
    "stats"
   ]
  },
  {
   "cell_type": "code",
   "execution_count": 11,
   "id": "51c3b800",
   "metadata": {},
   "outputs": [],
   "source": [
    "vals, freq = np.unique(np.array(stats['estudiante']), return_counts=True)"
   ]
  },
  {
   "cell_type": "code",
   "execution_count": 12,
   "id": "de8a3d8d",
   "metadata": {},
   "outputs": [
    {
     "data": {
      "image/png": "[encoded data removed]",
      "text/plain": [
       "<Figure size 432x288 with 1 Axes>"
      ]
     },
     "metadata": {
      "needs_background": "light"
     },
     "output_type": "display_data"
    }
   ],
   "source": [
    "pl.plot(vals,freq,'o')\n",
    "pl.xticks(vals)\n",
    "pl.xlabel(\"Semestre de última inscripción\")\n",
    "pl.ylabel(\"Votos válidos\")\n",
    "pl.gca().yaxis.set_major_locator(pl.MaxNLocator(integer=True))"
   ]
  }
 ],
 "metadata": {
  "kernelspec": {
   "display_name": "Python 3",
   "language": "python",
   "name": "python3"
  },
  "language_info": {
   "codemirror_mode": {
    "name": "ipython",
    "version": 3
   },
   "file_extension": ".py",
   "mimetype": "text/x-python",
   "name": "python",
   "nbconvert_exporter": "python",
   "pygments_lexer": "ipython3",
   "version": "3.9.5"
  }
 },
 "nbformat": 4,
 "nbformat_minor": 5
}
